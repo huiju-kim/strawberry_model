{
  "nbformat": 4,
  "nbformat_minor": 0,
  "metadata": {
    "colab": {
      "provenance": [],
      "gpuType": "T4",
      "mount_file_id": "1OxlJGfGryri4TJARfYDfMRHRQOfjtIX8",
      "authorship_tag": "ABX9TyPzJ1/YYgDLBOrp0RmFKeKm",
      "include_colab_link": true
    },
    "kernelspec": {
      "name": "python3",
      "display_name": "Python 3"
    },
    "language_info": {
      "name": "python"
    },
    "accelerator": "GPU"
  },
  "cells": [
    {
      "cell_type": "markdown",
      "metadata": {
        "id": "view-in-github",
        "colab_type": "text"
      },
      "source": [
        "<a href=\"https://colab.research.google.com/github/huiju-kim/strawberry_model/blob/main/strawberry_model.ipynb\" target=\"_parent\"><img src=\"https://colab.research.google.com/assets/colab-badge.svg\" alt=\"Open In Colab\"/></a>"
      ]
    },
    {
      "cell_type": "code",
      "execution_count": 57,
      "metadata": {
        "id": "12OP8zP4f2Ew"
      },
      "outputs": [],
      "source": [
        "# 두 가지 카테고리 분류\n",
        "# zzllrr Imager Geek 다운로드\n",
        "# 수집하고 싶은 이미지 검색\n",
        "# 우측 상단 아이콘 클릭 => GO 버튼 누른 후 화면 전환\n",
        "# 필요 없는 이미지, 아이콘 파일 클릭해서 제거\n",
        "# rename 버튼 클릭 후 prefix 버튼 클릭 이름 명명 규칙 수정\n",
        "# 수정한 이미지 이름 preview 버튼 클릭 후 반영 확인\n",
        "# save 누른 후 수집 대기 -> 수집 완료 후\n",
        "# 해당 카테고리 폴더 생성 후 모두 저장\n",
        "# 상위 폴더 생성 후 카테고리 폴더를 모두 넣기\n",
        "# 상위 폴더 압축 -> our_dataset.zip\n",
        "\n",
        "\n",
        "# 목표 성능 90%\n",
        "# 현재 89.8% -> HT\n",
        "# 현재 85%\n",
        "# 성능을 올리기 위해서는\n",
        "# 1. DATA\n",
        "# 2. Model(Model 교체 및 layer의 수를 추가)\n",
        "# 3. HT\n",
        "\n",
        "# 주제 : 딸기와 썩은 딸기 분류"
      ]
    },
    {
      "cell_type": "code",
      "source": [
        "# drive에 압축파일 업로드 하고\n",
        "# 아래 코드 실행\n",
        "!unzip /content/drive/MyDrive/strawberry_data.zip"
      ],
      "metadata": {
        "id": "uK-Ibe_-2oCK"
      },
      "execution_count": null,
      "outputs": []
    },
    {
      "cell_type": "code",
      "source": [
        "# 파일을 접근 -> 메모리에 파일을 올려야 -> 모든 파일의 경로가 필요\n",
        "from glob import glob\n",
        "mother_path = '/content/strawberry_data'\n",
        "# dataset 폴더가 없는 상태에서 풀렸다면\n",
        "# mother_path = '/content/\n",
        "glob(mother_path + '/*/*')"
      ],
      "metadata": {
        "id": "tkjXQYRM27QX"
      },
      "execution_count": null,
      "outputs": []
    },
    {
      "cell_type": "code",
      "source": [
        "import os\n",
        "a = '/content'\n",
        "b = 'test'\n",
        "os.path.join(a,b) # = a+'/'+b 리눅스, 맥, window"
      ],
      "metadata": {
        "id": "d2ZelLdM4JOo"
      },
      "execution_count": null,
      "outputs": []
    },
    {
      "cell_type": "code",
      "source": [
        "from PIL import Image\n",
        "import numpy as np"
      ],
      "metadata": {
        "id": "U1g80_9e6Zq7"
      },
      "execution_count": 62,
      "outputs": []
    },
    {
      "cell_type": "code",
      "source": [
        "folder_list = ['rotten_strawberry', 'strawberry']\n",
        "train = []\n",
        "label = []\n",
        "for idx , folder_name in enumerate(folder_list):\n",
        "    folder = os.path.join(mother_path, folder_name)\n",
        "    all_files_path = glob(folder+'/*')\n",
        "\n",
        "    for k,file_path in enumerate(all_files_path):\n",
        "        # 파일 불러오기\n",
        "        img = Image.open(file_path)\n",
        "        # 이미지 파일 전처리\n",
        "        img = img.resize((128,128), Image.BILINEAR) # 양선형 보간법 사용\n",
        "        img = img.convert('RGB')\n",
        "        np_img = np.array(img)\n",
        "        train.append(np_img)\n",
        "        label.append(idx)\n",
        "        if k % 20 == 0:\n",
        "          print(f'{k} / {len(all_files_path)}')\n",
        "\n",
        "np_train = np.array(train)\n",
        "np_label = np.array(label)\n",
        "\n"
      ],
      "metadata": {
        "id": "KULAWqhy3b-F"
      },
      "execution_count": null,
      "outputs": []
    },
    {
      "cell_type": "code",
      "source": [
        "print(np.bincount(np_label))\n",
        "print(np_train.shape)\n",
        "#np.save()"
      ],
      "metadata": {
        "id": "DJK-nUCV9IB3"
      },
      "execution_count": null,
      "outputs": []
    },
    {
      "cell_type": "code",
      "source": [
        "from sklearn.model_selection import train_test_split\n",
        "x_train, x_test, y_train, y_test = train_test_split(np_train, np_label, test_size=0.2)\n",
        "print(x_train.shape)\n",
        "print(x_test.shape)\n",
        "print(y_train.shape)\n",
        "print(y_test.shape)"
      ],
      "metadata": {
        "id": "fRAlduKv9gO9"
      },
      "execution_count": null,
      "outputs": []
    },
    {
      "cell_type": "markdown",
      "source": [
        "## Normalize 를 하는 이유\n",
        "\n",
        "\n",
        "*   통계 및 통계 응용에서 정규화는 다양한 의미를 가질 수 있습니다.\n",
        "*   가장 단순한 경우에, 등급의 정규화는 종종 평균화하기 전에 다른 척도에서 측정된 값을 개념적으로 일반적인 척도로 조정하는 것을 의미합니다"
      ],
      "metadata": {
        "id": "L1imbjymjwTg"
      }
    },
    {
      "cell_type": "code",
      "source": [
        "# xy = (x_train,x_test,y_train,y_test)\n",
        "# np.save('preprocessed_data.npy')"
      ],
      "metadata": {
        "id": "s6vYJmts-OaX"
      },
      "execution_count": 67,
      "outputs": []
    },
    {
      "cell_type": "code",
      "source": [
        "x_train = x_train / 255.\n",
        "x_test = x_test / 255."
      ],
      "metadata": {
        "id": "yxl-c2OO_m_7"
      },
      "execution_count": 68,
      "outputs": []
    },
    {
      "cell_type": "code",
      "source": [
        "import tensorflow as tf\n",
        "from tensorflow.keras import layers, models\n",
        "\n",
        "input_layer = layers.Input(shape=(128,128,3), name='start layer')\n",
        "tower_1 = layers.Conv2D(64 , kernel_size=(1,1) ,\n",
        "                        padding='same', strides=(1,1),\n",
        "                        activation='relu',name = 'tower_1' )(input_layer)\n",
        "tower_2 = layers.Conv2D(64 , kernel_size=(1,1) ,\n",
        "                        padding='same', strides=(1,1),\n",
        "                        activation='relu' , name= 'tower_2_1')(input_layer)\n",
        "tower_2 = layers.Conv2D(64 , kernel_size=(3,3) ,\n",
        "                        padding='same', strides=(1,1),\n",
        "                        activation='relu', name= 'tower_2_2')(tower_2)\n",
        "tower_3 = layers.Conv2D(64 , kernel_size=(1,1) ,\n",
        "                        padding='same', strides=(1,1),\n",
        "                        activation='relu', name= 'tower_3_1')(input_layer)\n",
        "tower_3 = layers.Conv2D(64 , kernel_size=(5,5) ,\n",
        "                        padding='same', strides=(1,1),\n",
        "                        activation='relu', name= 'tower_3_2')(tower_3)\n",
        "tower_4 = layers.MaxPool2D(pool_size=(3,3) , strides=(1,1) ,\n",
        "                           padding='same', name= 'tower_4_1')(input_layer)\n",
        "tower_4 = layers.Conv2D(64 , kernel_size=(1,1) ,\n",
        "                        padding='same', strides=(1,1),\n",
        "                        activation='relu', name= 'tower_4_2')(tower_4)\n",
        "#\n",
        "concat_layer = layers.concatenate([tower_1,tower_2,tower_3,tower_4],axis=3)\n",
        "concat_layer = layers.MaxPool2D(pool_size=(3,3) , strides=(2,2), padding='valid')(concat_layer)\n",
        "##\n",
        "tower_2_1 = layers.Conv2D(120 , kernel_size=(1,1) ,\n",
        "                        padding='same', strides=(1,1),\n",
        "                        activation='relu',name = 'tower_2_1_1' )(concat_layer)\n",
        "tower_2_2_1 = layers.Conv2D(120 , kernel_size=(1,1) ,\n",
        "                        padding='same', strides=(1,1),\n",
        "                        activation='relu' , name= 'tower_2_2_1')(concat_layer)\n",
        "tower_2_2_2 = layers.Conv2D(120 , kernel_size=(3,3) ,\n",
        "                        padding='same', strides=(1,1),\n",
        "                        activation='relu', name= 'tower_2_2_2')(tower_2_2_1)\n",
        "tower_2_3_1 = layers.Conv2D(120 , kernel_size=(1,1) ,\n",
        "                        padding='same', strides=(1,1),\n",
        "                        activation='relu', name= 'tower_2_3_1')(concat_layer)\n",
        "tower_2_3_2 = layers.Conv2D(120 , kernel_size=(5,5) ,\n",
        "                        padding='same', strides=(1,1),\n",
        "                        activation='relu', name= 'tower_2_3_2')(tower_2_3_1)\n",
        "tower_2_4_1 = layers.MaxPool2D(pool_size=(3,3) , strides=(1,1) ,\n",
        "                           padding='same', name= 'tower_2_4_1')(concat_layer)\n",
        "tower_2_4_2 = layers.Conv2D(120 , kernel_size=(1,1) ,\n",
        "                        padding='same', strides=(1,1),\n",
        "                        activation='relu', name= 'tower_2_4_2')(tower_2_4_1)\n",
        "concat_layer_2 = layers.concatenate([tower_2_1,tower_2_2_2,tower_2_3_2,tower_2_4_2],\n",
        "                                  axis=3)\n",
        "concat_layer_2 = layers.MaxPool2D(pool_size=(3,3) , strides=(2,2), padding='valid')(concat_layer_2)\n",
        "#\n",
        "last_avg_pool = layers.AveragePooling2D(pool_size=(31,31) , strides=(1,1), padding='valid')(concat_layer_2)\n",
        "flat_layer = layers.Flatten()(last_avg_pool)\n",
        "output_layer = layers.Dense(1 ,activation='sigmoid')(flat_layer)\n",
        "\n",
        "# 변경 포인트 input, lastavg_pool,output layer\n",
        "model = models.Model(input_layer,output_layer)\n",
        "model.summary()"
      ],
      "metadata": {
        "id": "_Csb-wTtUPmJ"
      },
      "execution_count": null,
      "outputs": []
    },
    {
      "cell_type": "code",
      "source": [
        "!mkdir tensorboard_log"
      ],
      "metadata": {
        "id": "wOj4fDjhUSNH"
      },
      "execution_count": null,
      "outputs": []
    },
    {
      "cell_type": "code",
      "source": [
        "model.compile(loss='binary_crossentropy',\n",
        "              optimizer='adam',metrics=['accuracy'])\n",
        "tb = tf.keras.callbacks.TensorBoard(log_dir='/content/tensorboard_log',\n",
        "                                    histogram_freq=1)\n",
        "#\n",
        "model.fit(x_train,y_train,\n",
        "          validation_data=(x_test,y_test),\n",
        "          epochs=10,callbacks=[tb])"
      ],
      "metadata": {
        "id": "vAg_66MuUakp"
      },
      "execution_count": null,
      "outputs": []
    },
    {
      "cell_type": "code",
      "source": [
        "from google.colab import files\n",
        "f = files.upload()"
      ],
      "metadata": {
        "id": "_1Qp2pUIXvSM"
      },
      "execution_count": null,
      "outputs": []
    },
    {
      "cell_type": "code",
      "source": [
        "test_file_name = list(f.keys())[0]"
      ],
      "metadata": {
        "id": "1X1HOsc5X5TH"
      },
      "execution_count": 74,
      "outputs": []
    },
    {
      "cell_type": "code",
      "source": [
        "img = Image.open(test_file_name)\n",
        "img = img.resize((128,128))\n",
        "img = img.convert('RGB')\n",
        "data = np.asarray(img)\n",
        "test_image_tensor = np.array([data])\n",
        "test_image_tensor = test_image_tensor / 255\n",
        "test_image_tensor.shape"
      ],
      "metadata": {
        "id": "AFeojeVVYrOJ"
      },
      "execution_count": null,
      "outputs": []
    },
    {
      "cell_type": "code",
      "source": [
        "result = model.predict(test_image_tensor)\n",
        "if result[0][0] > 0.5:\n",
        "    print(f'{folder_list[1]} 일 확률이 {result[0][0] * 100} % 입니다')\n",
        "else:\n",
        "    print(f'{folder_list[0]} 일 확률이 {(1 - result[0][0])* 100} % 입니다')\n"
      ],
      "metadata": {
        "id": "vUn4LXURZtPE"
      },
      "execution_count": null,
      "outputs": []
    },
    {
      "cell_type": "code",
      "source": [],
      "metadata": {
        "id": "ZWsxql9SaMv0"
      },
      "execution_count": null,
      "outputs": []
    }
  ]
}